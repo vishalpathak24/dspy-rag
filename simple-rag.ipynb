{
 "cells": [
  {
   "cell_type": "markdown",
   "id": "8ee4b09c",
   "metadata": {},
   "source": [
    "## Loading Vector Store"
   ]
  },
  {
   "cell_type": "code",
   "execution_count": 1,
   "id": "662261fa",
   "metadata": {},
   "outputs": [],
   "source": [
    "from settings import *"
   ]
  },
  {
   "cell_type": "code",
   "execution_count": 3,
   "id": "7740fd37",
   "metadata": {},
   "outputs": [
    {
     "name": "stderr",
     "output_type": "stream",
     "text": [
      "llama_new_context_with_model: n_ctx_per_seq (512) < n_ctx_train (131072) -- the full capacity of the model will not be utilized\n"
     ]
    },
    {
     "name": "stdout",
     "output_type": "stream",
     "text": [
      "Loaded 20 Documents\n"
     ]
    }
   ],
   "source": [
    "# Loading the vector_store\n",
    "from langchain_community.vectorstores import FAISS\n",
    "from utils import LlamaCppEmbeddingsFix\n",
    "\n",
    "embeding = LlamaCppEmbeddingsFix(\n",
    "    model_path=MODEL_PATH, verbose=False,\n",
    "    n_ctx=(N_DOCS_RETREIVE+2)*CHUNK_SIZE,\n",
    ")\n",
    "\n",
    "vector_store = FAISS.load_local(\n",
    "    VECTOR_STORE,\n",
    "    embeddings=embeding,\n",
    "    allow_dangerous_deserialization=True\n",
    ")\n",
    "vector_store.load_local(VECTOR_STORE, embeddings=embeding, allow_dangerous_deserialization=True)\n",
    "print(f\"Loaded {vector_store.index.ntotal} Documents\")"
   ]
  },
  {
   "cell_type": "code",
   "execution_count": 4,
   "id": "837775cd",
   "metadata": {},
   "outputs": [],
   "source": [
    "SYSTEM_PROMPT = \"\"\"You are an assistant for question-answering tasks. \n",
    "Use the following pieces of retrieved context to answer the question. \n",
    "If you don't know the answer, just say that you don't know. \n",
    "Use three sentences maximum and keep the answer concise.\n",
    "Context: {context}:\"\"\""
   ]
  },
  {
   "cell_type": "code",
   "execution_count": 5,
   "id": "16d9f591",
   "metadata": {},
   "outputs": [],
   "source": [
    "retriever = vector_store.as_retriever(search_type=\"mmr\", search_kwargs={\n",
    "    'k': N_DOCS_RETREIVE\n",
    "})"
   ]
  },
  {
   "cell_type": "code",
   "execution_count": 8,
   "id": "0e5a47d4",
   "metadata": {},
   "outputs": [
    {
     "name": "stderr",
     "output_type": "stream",
     "text": [
      "llama_new_context_with_model: n_ctx_per_seq (7008) < n_ctx_train (131072) -- the full capacity of the model will not be utilized\n"
     ]
    }
   ],
   "source": [
    "from langchain_community.chat_models import ChatLlamaCpp\n",
    "\n",
    "llm = ChatLlamaCpp(\n",
    "    temperature=0.2,\n",
    "    model_path=MODEL_PATH,\n",
    "    n_ctx=(N_DOCS_RETREIVE+2)*CHUNK_SIZE,\n",
    "    n_batch=32,  # Should be between 1 and n_ctx, consider the amount of VRAM in your GPU.\n",
    "    max_tokens=4098,\n",
    "    top_p=1,\n",
    "    verbose=False\n",
    ")"
   ]
  },
  {
   "cell_type": "code",
   "execution_count": 15,
   "id": "29099d95",
   "metadata": {},
   "outputs": [
    {
     "data": {
      "text/plain": [
       "'According to the Operational Manual, assigning a fee structure involves the following steps:\\n\\n1. **Define the purpose**: Determine why you want to assign a fee structure (e.g., for courses, exams, or other activities).\\n2. **Identify the stakeholders**: Who will be affected by the assignment of a fee structure? This includes students, faculty members, staff, and any other relevant parties.\\n3. **Determine the fees**: Based on your research and analysis, determine the fees that you want to assign to each stakeholder group.\\n4. **Create a fee structure template**: Create a template that outlines the fees for each stakeholder group. This template should include columns for:\\n\\t* Fee type (e.g., tuition, exam fees)\\n\\t* Fee amount\\n\\t* Payment terms (e.g., due date, payment methods)\\n5. **Review and revise the fee structure**: Review your fee structure to ensure that it is fair, transparent, and compliant with relevant laws and regulations.\\n6. **Communicate the fee structure to stakeholders**: Communicate the fee structure to all stakeholders, including students, faculty members, staff, and any other relevant parties.\\n\\nBy following these steps, you can effectively assign a fee structure to your institution or organization.'"
      ]
     },
     "execution_count": 15,
     "metadata": {},
     "output_type": "execute_result"
    }
   ],
   "source": [
    "from langchain_core.messages import SystemMessage, HumanMessage, AIMessage\n",
    "#QUERY = \"How to update followup status\"\n",
    "#QUERY = \"How to contact Vishal Pathak\"\n",
    "QUERY = \"How to assign fee structure\" # Creating Hellucination\n",
    "\n",
    "docs = retriever.invoke(QUERY)\n",
    "docs_text = \"\".join(f\"Page {d.metadata['page']}\\n\"+d.page_content for d in docs)\n",
    "\n",
    "llm.invoke(\n",
    "    [\n",
    "        SystemMessage(SYSTEM_PROMPT.format(context=docs_text)), \n",
    "        HumanMessage(QUERY)\n",
    "    ]\n",
    ").content"
   ]
  },
  {
   "cell_type": "code",
   "execution_count": 17,
   "id": "4d55a1d4",
   "metadata": {},
   "outputs": [
    {
     "data": {
      "text/plain": [
       "[Document(metadata={'source': 'data/Manual Administration.pdf', 'page': 0, 'start_index': 0}, page_content='For more information, please contact\\n+917970001117, +917970001018\\nor\\nVisit www.qlsacademy.com\\nOPERATIONAL MANUAL\\nExplore the world of future learning through AI-based online interactive class\\nClick here to download app\\nLast Update\\n 17-Jan-21\\nFOR INSTITUTIONAL LMS OPERATIONS'),\n",
       " Document(metadata={'source': 'data/Manual Administration.pdf', 'page': 7, 'start_index': 0}, page_content='Step-1. Click on this icon to check follow-ups History.\\nStep-2. Follow-ups History.\\n1\\n2\\n1\\nStep-1. Click on Three Dots & Select Follow Up option. \\nStep-2. Select Follow-up activity date.\\nStep-3. Enter Activity Remark.\\nStep-4. Tick Next Follow-up Check Box.\\nStep-5. Select Next Action date & Next Action time.\\nStep-6. Write next follow-up plans then click on Submit.\\nCHECK FOLLOWUP HISTORY\\nENTER NEW FOLLOWUP DETAILS\\n2\\n3\\n5 6\\n4'),\n",
       " Document(metadata={'source': 'data/Manual Administration.pdf', 'page': 5, 'start_index': 0}, page_content='1 2\\n3\\n4\\n Select Standard, Select date duration then click on       Search.\\n Click Plus      Icon for Creating new Inquiry.\\n Filter or Search by the Enquiry No., Name, Standard, or Contact Number.\\n These badges will show the current status of the student. \\n Action button are following: \\n1.\\n2.\\n3.\\n4.\\n5.\\nWe are on the Admission inquiry list. We can filter the list as per date and\\nstandard.\\nEnquiry Management\\nEdit\\nStatus Update\\nExpand Details\\nMenu\\nADMISSION ENQUIRY\\n1. Click on Admission Enquiry report to check date wise admission Enquiry details.\\n1'),\n",
       " Document(metadata={'source': 'data/Manual Administration.pdf', 'page': 8, 'start_index': 0}, page_content='1\\n2\\nStep-1. Click on three dots & click \"Push to Registration\" to\\nOpen Registration form.\\nHOW TO PUSH INQUIRIES TO REGISTRATION\\nStep-2. Now fill the registration form and click on the save button.'),\n",
       " Document(metadata={'source': 'data/Manual Administration.pdf', 'page': 10, 'start_index': 0}, page_content='1\\n1\\nHOW TO OPEN NEW REGISTRATION FORM\\n1. Click on Registration and then click New Registration to open new Registration\\nform.\\n2. Fill the Registration form with the required details and click on Save option.\\n2')]"
      ]
     },
     "execution_count": 17,
     "metadata": {},
     "output_type": "execute_result"
    }
   ],
   "source": []
  }
 ],
 "metadata": {
  "kernelspec": {
   "display_name": "Python 3 (ipykernel)",
   "language": "python",
   "name": "python3"
  },
  "language_info": {
   "codemirror_mode": {
    "name": "ipython",
    "version": 3
   },
   "file_extension": ".py",
   "mimetype": "text/x-python",
   "name": "python",
   "nbconvert_exporter": "python",
   "pygments_lexer": "ipython3",
   "version": "3.11.9"
  }
 },
 "nbformat": 4,
 "nbformat_minor": 5
}
